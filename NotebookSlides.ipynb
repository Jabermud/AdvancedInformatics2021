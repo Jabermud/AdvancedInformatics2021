{
 "cells": [
  {
   "cell_type": "markdown",
   "metadata": {
    "slideshow": {
     "slide_type": "slide"
    }
   },
   "source": [
    "# Notebooks\n",
    "\n",
    "* Useful for writing reports about our research\n",
    "* Can make PDF, HTML, markdown, or JavaScript output from them\n",
    "* Can execute code within the notebook!"
   ]
  },
  {
   "cell_type": "markdown",
   "metadata": {
    "slideshow": {
     "slide_type": "slide"
    }
   },
   "source": [
    "# Let's add some code!\n",
    "\n",
    "Jupyter stuff is \"for\" Python by default.  (More on that later)"
   ]
  },
  {
   "cell_type": "code",
   "execution_count": 1,
   "metadata": {},
   "outputs": [
    {
     "data": {
      "image/svg+xml": [
       "<svg xmlns=\"http://www.w3.org/2000/svg\" xmlns:ev=\"http://www.w3.org/2001/xml-events\" xmlns:xlink=\"http://www.w3.org/1999/xlink\" baseProfile=\"full\" height=\"200\" version=\"1.1\" width=\"400\"><defs><style type=\"text/css\"><![CDATA[.axis {font-weight: bold}.tree, .axis {font-size: 14px; text-anchor:middle}.edge {stroke: black; fill: none}.node > .sym {fill: black; stroke: none}.tree text {dominant-baseline: middle}.tree .lab.lft {text-anchor: end}.tree .lab.rgt {text-anchor: start}.mut {fill: red; font-style: italic}]]></style></defs><g class=\"tree-sequence\"><g class=\"background\"><polygon fill=\"#F1F1F1\" points=\"20,185 20,180 20,160 20,0 200.0,0 200.0,160 291.286,180 291.286,185\"/></g><g class=\"trees\"><g class=\"treebox t0\" transform=\"translate(20 30)\"><g class=\"tree t0\"><g class=\"node n9 p0 root\" transform=\"translate(86.6667 30.0)\"><g class=\"a9 node n7 p0\" transform=\"translate(36.6667 41.2958)\"><g class=\"a7 leaf node n4 p0 sample\" transform=\"translate(20.0 38.7042)\"><path class=\"edge\" d=\"M 0 0 V -38.7042 H -20.0\"/><circle class=\"sym\" cx=\"0\" cy=\"0\" r=\"3\"/><text class=\"lab\" transform=\"translate(0 12)\">4</text></g><g class=\"a7 node n6 p0\" transform=\"translate(-20.0 20.8655)\"><g class=\"a6 leaf node n2 p0 sample\" transform=\"translate(-13.3333 17.8388)\"><path class=\"edge\" d=\"M 0 0 V -17.8388 H 13.3333\"/><circle class=\"sym\" cx=\"0\" cy=\"0\" r=\"3\"/><text class=\"lab\" transform=\"translate(0 12)\">2</text></g><g class=\"a6 leaf node n3 p0 sample\" transform=\"translate(13.3333 17.8388)\"><path class=\"edge\" d=\"M 0 0 V -17.8388 H -13.3333\"/><circle class=\"sym\" cx=\"0\" cy=\"0\" r=\"3\"/><text class=\"lab\" transform=\"translate(0 12)\">3</text></g><path class=\"edge\" d=\"M 0 0 V -20.8655 H 20.0\"/><circle class=\"sym\" cx=\"0\" cy=\"0\" r=\"3\"/><text class=\"lab lft\" transform=\"translate(-3 -6)\">6</text></g><path class=\"edge\" d=\"M 0 0 V -41.2958 H -36.6667\"/><circle class=\"sym\" cx=\"0\" cy=\"0\" r=\"3\"/><text class=\"lab rgt\" transform=\"translate(3 -6)\">7</text></g><g class=\"a9 node n8 p0\" transform=\"translate(-36.6667 0.0752586)\"><g class=\"a8 leaf node n0 p0 sample\" transform=\"translate(-13.3333 79.9247)\"><path class=\"edge\" d=\"M 0 0 V -79.9247 H 13.3333\"/><circle class=\"sym\" cx=\"0\" cy=\"0\" r=\"3\"/><text class=\"lab\" transform=\"translate(0 12)\">0</text></g><g class=\"a8 leaf node n1 p0 sample\" transform=\"translate(13.3333 79.9247)\"><path class=\"edge\" d=\"M 0 0 V -79.9247 H -13.3333\"/><circle class=\"sym\" cx=\"0\" cy=\"0\" r=\"3\"/><text class=\"lab\" transform=\"translate(0 12)\">1</text></g><path class=\"edge\" d=\"M 0 0 V -0.0752586 H 36.6667\"/><circle class=\"sym\" cx=\"0\" cy=\"0\" r=\"3\"/><text class=\"lab lft\" transform=\"translate(-3 -6)\">8</text></g><circle class=\"sym\" cx=\"0\" cy=\"0\" r=\"3\"/><text class=\"lab\" transform=\"translate(0 -10)\">9</text></g></g></g><g class=\"treebox t1\" transform=\"translate(200.0 30)\"><g class=\"tree t1\"><g class=\"node n9 p0 root\" transform=\"translate(118.333 30.0)\"><g class=\"a9 node n7 p0\" transform=\"translate(-25.0 41.2958)\"><g class=\"a7 leaf node n4 p0 sample\" transform=\"translate(23.3333 38.7042)\"><path class=\"edge\" d=\"M 0 0 V -38.7042 H -23.3333\"/><circle class=\"sym\" cx=\"0\" cy=\"0\" r=\"3\"/><text class=\"lab\" transform=\"translate(0 12)\">4</text></g><g class=\"a7 node n6 p0\" transform=\"translate(-23.3333 20.8655)\"><g class=\"a6 leaf node n2 p0 sample\" transform=\"translate(20.0 17.8388)\"><path class=\"edge\" d=\"M 0 0 V -17.8388 H -20.0\"/><circle class=\"sym\" cx=\"0\" cy=\"0\" r=\"3\"/><text class=\"lab\" transform=\"translate(0 12)\">2</text></g><g class=\"a6 node n5 p0\" transform=\"translate(-20.0 0.678348)\"><g class=\"a5 leaf node n0 p0 sample\" transform=\"translate(-13.3333 17.1604)\"><path class=\"edge\" d=\"M 0 0 V -17.1604 H 13.3333\"/><circle class=\"sym\" cx=\"0\" cy=\"0\" r=\"3\"/><text class=\"lab\" transform=\"translate(0 12)\">0</text></g><g class=\"a5 leaf node n3 p0 sample\" transform=\"translate(13.3333 17.1604)\"><path class=\"edge\" d=\"M 0 0 V -17.1604 H -13.3333\"/><circle class=\"sym\" cx=\"0\" cy=\"0\" r=\"3\"/><text class=\"lab\" transform=\"translate(0 12)\">3</text></g><path class=\"edge\" d=\"M 0 0 V -0.678348 H 20.0\"/><circle class=\"sym\" cx=\"0\" cy=\"0\" r=\"3\"/><text class=\"lab lft\" transform=\"translate(-3 -6)\">5</text></g><path class=\"edge\" d=\"M 0 0 V -20.8655 H 23.3333\"/><circle class=\"sym\" cx=\"0\" cy=\"0\" r=\"3\"/><text class=\"lab lft\" transform=\"translate(-3 -6)\">6</text></g><path class=\"edge\" d=\"M 0 0 V -41.2958 H 25.0\"/><circle class=\"sym\" cx=\"0\" cy=\"0\" r=\"3\"/><text class=\"lab lft\" transform=\"translate(-3 -6)\">7</text></g><g class=\"a9 leaf node n1 p0 sample\" transform=\"translate(25.0 80.0)\"><path class=\"edge\" d=\"M 0 0 V -80.0 H -25.0\"/><circle class=\"sym\" cx=\"0\" cy=\"0\" r=\"3\"/><text class=\"lab\" transform=\"translate(0 12)\">1</text></g><circle class=\"sym\" cx=\"0\" cy=\"0\" r=\"3\"/><text class=\"lab\" transform=\"translate(0 -10)\">9</text></g></g></g></g><g class=\"axis\"><line stroke=\"black\" x1=\"20\" x2=\"380\" y1=\"180\" y2=\"180\"/><line stroke=\"black\" x1=\"20\" x2=\"20\" y1=\"180\" y2=\"185\"/><g transform=\"translate(20, 200)\"><text font-size=\"14\" font-weight=\"bold\" text-anchor=\"middle\">0.00</text></g><line stroke=\"black\" x1=\"291.286\" x2=\"291.286\" y1=\"180\" y2=\"185\"/><g transform=\"translate(291.286, 200)\"><text font-size=\"14\" font-weight=\"bold\" text-anchor=\"middle\">0.75</text></g><line stroke=\"black\" x1=\"380.0\" x2=\"380.0\" y1=\"180\" y2=\"185\"/><g transform=\"translate(380.0, 200)\"><text font-size=\"14\" font-weight=\"bold\" text-anchor=\"middle\">1.00</text></g></g></g></svg>"
      ],
      "text/plain": [
       "<IPython.core.display.SVG object>"
      ]
     },
     "execution_count": 1,
     "metadata": {},
     "output_type": "execute_result"
    }
   ],
   "source": [
    "from IPython.display import SVG\n",
    "import msprime\n",
    "ts = msprime.simulate(5, random_seed=42, recombination_rate=0.5)\n",
    "SVG(ts.draw_svg())"
   ]
  },
  {
   "cell_type": "markdown",
   "metadata": {
    "slideshow": {
     "slide_type": "slide"
    }
   },
   "source": [
    "# Literate programming\n",
    "\n",
    "* This document is \"right\" because all the figures, etc., have known provenance (code).\n",
    "* You can also have numbers in the document generated via code."
   ]
  },
  {
   "cell_type": "markdown",
   "metadata": {
    "slideshow": {
     "slide_type": "slide"
    }
   },
   "source": [
    "# Types of notebooks\n",
    "\n",
    "* Jupyter (this).\n",
    "* RMarkdown, often via R Studio.\n",
    "* mdbook, for folks using the `rust` programming language. Not as mature, but off to a good start.\n",
    "* These are all modern takes on earlier efforts such as Sweave, Rweave, etc.."
   ]
  },
  {
   "cell_type": "markdown",
   "metadata": {
    "slideshow": {
     "slide_type": "slide"
    }
   },
   "source": [
    "# You can write math.\n",
    "\n",
    "In markdown, you use $\\LaTeX$ notation to write math.\n",
    "Display math is in double dollar signs.\n",
    "For example, $$e=mc^2.$$"
   ]
  },
  {
   "cell_type": "markdown",
   "metadata": {
    "slideshow": {
     "slide_type": "slide"
    }
   },
   "source": [
    "# Limitations of Jupyter\n",
    "\n",
    "* Hard (impossible?) to mix > 1 language in same notebook.\n",
    "* Browser interface makes it hard to do remote work.  Need annoying SSH tunneling tricks to get this to work.  You can find them on [my website](https://www.molpopgen.org).\n",
    "* Hard to write long documents--books, etc..\n",
    "* The notebook file is a binary \"blob\", and therefore very github/git-unfriendly.  There are workarounds (you can Google for them), but they are imperfect/a bit hack-ish.\n",
    "* The notebook files get pretty big."
   ]
  },
  {
   "cell_type": "markdown",
   "metadata": {
    "slideshow": {
     "slide_type": "slide"
    }
   },
   "source": [
    "# RMarkdown\n",
    "\n",
    "* Plain text! Therefore git-friendly.  (Smaller, too.)\n",
    "* Can run multiple languages in the same document.\n",
    "* More \"ergonomic\".  You do not have to write them in RStudio. I write my documents in [neovim](https://www.neovim.io) using [pandoc plugins](https://github.com/vim-pandoc/vim-pandoc).  (Some others are required, too--ask me if you vim.)\n",
    "* More document flavors are supported.  Books are possible via [bookdown](https://www.bookdown.org), which is an R package.  My [lab site](https://www.molpopgen.org) has several template repos.\n",
    "* Can be used as a template for auto-generated reports b/c plain text."
   ]
  },
  {
   "cell_type": "markdown",
   "metadata": {
    "slideshow": {
     "slide_type": "slide"
    }
   },
   "source": [
    "# Recommendations\n",
    "\n",
    "* Use RMarkdown most of the time.  Even Python users!!\n",
    "* Jupyter works great, too, but is not very git/github compatible."
   ]
  },
  {
   "cell_type": "markdown",
   "metadata": {},
   "source": [
    "# Converting Jupyter notebooks to other formats.\n",
    "\n",
    "Use `nbconvert`.  For example:\n",
    "    \n",
    "```sh\n",
    "jupyter nbconvert --to slides NotebookSlides.ipynb\n",
    "```"
   ]
  }
 ],
 "metadata": {
  "kernelspec": {
   "display_name": "Python 3",
   "language": "python",
   "name": "python3"
  },
  "language_info": {
   "codemirror_mode": {
    "name": "ipython",
    "version": 3
   },
   "file_extension": ".py",
   "mimetype": "text/x-python",
   "name": "python",
   "nbconvert_exporter": "python",
   "pygments_lexer": "ipython3",
   "version": "3.8.6"
  }
 },
 "nbformat": 4,
 "nbformat_minor": 4
}
